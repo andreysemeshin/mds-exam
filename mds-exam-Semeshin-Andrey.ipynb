{
 "cells": [
  {
   "cell_type": "code",
   "execution_count": 1,
   "metadata": {},
   "outputs": [],
   "source": [
    "import matplotlib.pyplot as plt\n",
    "import numpy as np\n",
    "from sklearn.decomposition import TruncatedSVD\n",
    "\n",
    "import sympy\n",
    "from sympy import diff, symbols, cos, sin, tan\n",
    "\n",
    "from scipy.optimize import minimize\n",
    "%matplotlib inline"
   ]
  },
  {
   "cell_type": "markdown",
   "metadata": {},
   "source": [
    "Задание 1\n",
    "=====\n",
    "Дана матрица рейтингов фильмов (строки - пользователи (10 человек), столбцы - фильмы (15 фильмов))\n",
    "\n",
    "\n",
    "a) Необходимо найти наиболее похожего пользователя по косинусной метрике для каждого из (ответ: 10 пар вида (x, y), где y - наиболее похожий пользователь на пользователя x)."
   ]
  },
  {
   "cell_type": "code",
   "execution_count": 2,
   "metadata": {},
   "outputs": [],
   "source": [
    "raitings = np.array([[ 4,  4,  9,  4,  1,  6, 10,  7,  9,  6,  9,  2,  8,  6,  6],\n",
    "                     [ 9,  2,  5, 10,  7,  8, 10,  5,  6,  2,  1,  6,  8,  9,  7],\n",
    "                     [ 1,  6,  8,  8,  4,  9,  3,  8, 10,  5,  2,  6,  8,  1,  6],\n",
    "                     [ 6,  1,  9,  7,  7,  9,  2,  3,  5,  1,  6,  6,  3,  2,  7],\n",
    "                     [ 3,  7,  3,  5,  7,  9,  9,  6,  2,  9,  1,  2,  8, 10,  6],\n",
    "                     [ 8,  3,  7,  3,  8,  6,  1,  8,  8,  6,  1,  9,  4, 10,  1],\n",
    "                     [ 9,  8,  4,  8,  8, 10,  6,  1,  1,  2,  9,  5,  2,  7,  2],\n",
    "                     [ 4,  1,  6,  4,  3, 10,  4,  4,  2,  8,  7,  9,  3,  8,  3],\n",
    "                     [ 2,  7,  7,  6, 10,  6,  8,  9,  8,  6, 10,  1,  7, 10,  4],\n",
    "                     [ 5, 10,  8,  8,  9,  7,  2,  9,  9, 10,  8,  8,  8,  6, 10]])"
   ]
  },
  {
   "cell_type": "code",
   "execution_count": 3,
   "metadata": {},
   "outputs": [],
   "source": [
    "def angle_( a, b ):\n",
    "    \"\"\"\n",
    "    Подсчет угла между векторами a, b по их координатам\n",
    "    \"\"\"\n",
    "    \n",
    "    # длины векторов\n",
    "    aLength = np.linalg.norm( a )\n",
    "    bLength = np.linalg.norm( b )\n",
    "    \n",
    "    return np.arccos(np.dot( a, b ) / ( aLength * bLength )) * 360 / 2 / np.pi"
   ]
  },
  {
   "cell_type": "code",
   "execution_count": 4,
   "metadata": {},
   "outputs": [
    {
     "name": "stdout",
     "output_type": "stream",
     "text": [
      "Для пользователя [ 4  4  9  4  1  6 10  7  9  6  9  2  8  6  6] \n",
      "похожий [ 2  7  7  6 10  6  8  9  8  6 10  1  7 10  4] \n",
      "\n",
      "Для пользователя [ 9  2  5 10  7  8 10  5  6  2  1  6  8  9  7] \n",
      "похожий [ 3  7  3  5  7  9  9  6  2  9  1  2  8 10  6] \n",
      "\n",
      "Для пользователя [ 1  6  8  8  4  9  3  8 10  5  2  6  8  1  6] \n",
      "похожий [ 5 10  8  8  9  7  2  9  9 10  8  8  8  6 10] \n",
      "\n",
      "Для пользователя [6 1 9 7 7 9 2 3 5 1 6 6 3 2 7] \n",
      "похожий [ 5 10  8  8  9  7  2  9  9 10  8  8  8  6 10] \n",
      "\n",
      "Для пользователя [ 3  7  3  5  7  9  9  6  2  9  1  2  8 10  6] \n",
      "похожий [ 2  7  7  6 10  6  8  9  8  6 10  1  7 10  4] \n",
      "\n",
      "Для пользователя [ 8  3  7  3  8  6  1  8  8  6  1  9  4 10  1] \n",
      "похожий [ 5 10  8  8  9  7  2  9  9 10  8  8  8  6 10] \n",
      "\n",
      "Для пользователя [ 9  8  4  8  8 10  6  1  1  2  9  5  2  7  2] \n",
      "похожий [6 1 9 7 7 9 2 3 5 1 6 6 3 2 7] \n",
      "\n",
      "Для пользователя [ 4  1  6  4  3 10  4  4  2  8  7  9  3  8  3] \n",
      "похожий [ 8  3  7  3  8  6  1  8  8  6  1  9  4 10  1] \n",
      "\n",
      "Для пользователя [ 2  7  7  6 10  6  8  9  8  6 10  1  7 10  4] \n",
      "похожий [ 4  4  9  4  1  6 10  7  9  6  9  2  8  6  6] \n",
      "\n",
      "Для пользователя [ 5 10  8  8  9  7  2  9  9 10  8  8  8  6 10] \n",
      "похожий [ 1  6  8  8  4  9  3  8 10  5  2  6  8  1  6] \n",
      "\n"
     ]
    }
   ],
   "source": [
    "for i in range(len(raitings)):\n",
    "    angle = 90\n",
    "    user_like = -1\n",
    "    for j in range(len(raitings)):\n",
    "        if i==j:\n",
    "            continue\n",
    "        if angle_(raitings[i], raitings[j]) < angle:\n",
    "            angle = angle_(raitings[i], raitings[j])\n",
    "            user_like = raitings[j]\n",
    "    print(\"Для пользователя\", raitings[i], \"\\nпохожий\", user_like, \"\\n\")"
   ]
  },
  {
   "cell_type": "markdown",
   "metadata": {},
   "source": [
    "<b> b) </b>Предположим, вы захотели сжать признаковые описания пользователя с 15 фильмов, до, скажем, 5-ти признаков, как вы это сделаете?"
   ]
  },
  {
   "cell_type": "markdown",
   "metadata": {},
   "source": [
    "Можно использовать SVD метод "
   ]
  },
  {
   "cell_type": "code",
   "execution_count": 5,
   "metadata": {},
   "outputs": [
    {
     "data": {
      "text/plain": [
       "array([[23.41982063, -5.36092136,  3.83196779, -4.06950174,  1.10267269],\n",
       "       [24.76774917,  4.52188701,  1.35815965,  1.58128545,  8.59912002],\n",
       "       [22.27728589, -6.96492049, -4.84461485, -0.47661647,  3.37152266],\n",
       "       [19.4257757 ,  2.64575227, -6.86014009, -4.76604765,  1.96075707],\n",
       "       [22.8146354 ,  0.51464093,  7.70180188,  4.42379773,  1.29124163],\n",
       "       [21.76961656,  1.94294987, -4.56934779,  8.32306487, -2.21887359],\n",
       "       [21.23427453,  9.78047778,  1.16340271, -4.86074521, -2.60815471],\n",
       "       [19.97476815,  4.00048677, -1.67456316,  1.1512346 , -3.5637169 ],\n",
       "       [26.39306998, -3.03090482,  5.86422753, -1.67503491, -3.71500141],\n",
       "       [29.94016844, -4.82012297, -3.48912415,  0.05527083, -3.62526487]])"
      ]
     },
     "execution_count": 5,
     "metadata": {},
     "output_type": "execute_result"
    }
   ],
   "source": [
    "svd = TruncatedSVD(n_components=5)\n",
    "new_raitings = svd.fit_transform(raitings)\n",
    "new_raitings"
   ]
  },
  {
   "cell_type": "markdown",
   "metadata": {},
   "source": [
    "### Задание 2"
   ]
  },
  {
   "cell_type": "markdown",
   "metadata": {},
   "source": [
    "Вычислите производную $tg^2(sin(x) + cos(2x+3))$ в точке $x_0=1$ на python и на бумаге (просто подставить точку в производную и ничего не упрощать)."
   ]
  },
  {
   "cell_type": "code",
   "execution_count": 8,
   "metadata": {},
   "outputs": [
    {
     "data": {
      "text/latex": [
       "$\\displaystyle 2 \\left(- 2 \\sin{\\left(2 x + 3 \\right)} + \\cos{\\left(x \\right)}\\right) \\left(\\tan^{2}{\\left(\\sin{\\left(x \\right)} + \\cos{\\left(2 x + 3 \\right)} \\right)} + 1\\right) \\tan{\\left(\\sin{\\left(x \\right)} + \\cos{\\left(2 x + 3 \\right)} \\right)}$"
      ],
      "text/plain": [
       "2*(-2*sin(2*x + 3) + cos(x))*(tan(sin(x) + cos(2*x + 3))**2 + 1)*tan(sin(x) + cos(2*x + 3))"
      ]
     },
     "execution_count": 8,
     "metadata": {},
     "output_type": "execute_result"
    }
   ],
   "source": [
    "x = symbols('x') \n",
    "fx = (tan(sin(x)+cos(2*x+3)))**2\n",
    "dfdx = diff(fx)\n",
    "dfdx"
   ]
  },
  {
   "cell_type": "code",
   "execution_count": 9,
   "metadata": {},
   "outputs": [
    {
     "data": {
      "text/latex": [
       "$\\displaystyle 2 \\left(1 + \\tan^{2}{\\left(\\cos{\\left(5 \\right)} + \\sin{\\left(1 \\right)} \\right)}\\right) \\left(\\cos{\\left(1 \\right)} - 2 \\sin{\\left(5 \\right)}\\right) \\tan{\\left(\\cos{\\left(5 \\right)} + \\sin{\\left(1 \\right)} \\right)}$"
      ],
      "text/plain": [
       "2*(1 + tan(cos(5) + sin(1))**2)*(cos(1) - 2*sin(5))*tan(cos(5) + sin(1))"
      ]
     },
     "execution_count": 9,
     "metadata": {},
     "output_type": "execute_result"
    }
   ],
   "source": [
    "diff(fx).subs(x,1)"
   ]
  },
  {
   "cell_type": "markdown",
   "metadata": {},
   "source": [
    "$f = 2* tan(sin(x)+cos(2*x+3))* tan(sin(x)+cos(2*x+3))$\n",
    "$f = 2* tan(sin(x)+cos(2x+3))*(1+tan^2(sin(x)+cos(2x+3)))*(cos(x)-2*sin(2x+3)$\n",
    "\n",
    "При $x_0$ = 1\n",
    "\n",
    "$f = 2* tan(sin(1)+cos(2*1+3))*(1+tan^2(sin(1)+cos(2*1+3)))*(cos(1)-2*sin(2*1+3)$"
   ]
  },
  {
   "cell_type": "markdown",
   "metadata": {},
   "source": [
    "### Задание 3"
   ]
  },
  {
   "cell_type": "markdown",
   "metadata": {},
   "source": [
    "Дана функция с неизвестными параметрами a и b, вам также известны значения функции fx в точках x. Найдите оптимальные параметры a, b, минимизирующие абсолютную ошибку <b>error</b>"
   ]
  },
  {
   "cell_type": "code",
   "execution_count": 45,
   "metadata": {},
   "outputs": [],
   "source": [
    "def f(x, a, b):\n",
    "    return np.e**a * np.sin(b*x) + x"
   ]
  },
  {
   "cell_type": "code",
   "execution_count": 46,
   "metadata": {},
   "outputs": [],
   "source": [
    "x = np.array([0.        , 0.26315789, 0.52631579, 0.78947368, 1.05263158,\n",
    "              1.31578947, 1.57894737, 1.84210526, 2.10526316, 2.36842105,\n",
    "              2.63157895, 2.89473684, 3.15789474, 3.42105263, 3.68421053,\n",
    "              3.94736842, 4.21052632, 4.47368421, 4.73684211, 5.        ])"
   ]
  },
  {
   "cell_type": "code",
   "execution_count": 47,
   "metadata": {},
   "outputs": [],
   "source": [
    "fx = np.array([  0.        , -12.01819092, -18.90968634, -17.68786571,\n",
    "                -8.7529108 ,   4.27524517,  16.06801336,  21.81250213,\n",
    "                19.22059845,   9.48411207,  -3.22273056, -13.48576488,\n",
    "               -16.91096359, -11.95866834,  -0.58630088,  12.56873816,\n",
    "                22.12489421,  24.20292139,  18.04522521,   6.33211092])"
   ]
  },
  {
   "cell_type": "code",
   "execution_count": 48,
   "metadata": {},
   "outputs": [
    {
     "data": {
      "image/png": "[encoded data removed]",
      "text/plain": [
       "<Figure size 432x288 with 1 Axes>"
      ]
     },
     "metadata": {
      "needs_background": "light"
     },
     "output_type": "display_data"
    }
   ],
   "source": [
    "plt.plot(x, fx)\n",
    "plt.show()"
   ]
  },
  {
   "cell_type": "code",
   "execution_count": 49,
   "metadata": {},
   "outputs": [],
   "source": [
    "def error(params):\n",
    "    return np.sum(np.abs(fx - f(x, params[0], params[1])))"
   ]
  },
  {
   "cell_type": "code",
   "execution_count": 56,
   "metadata": {},
   "outputs": [
    {
     "name": "stdout",
     "output_type": "stream",
     "text": [
      "Optimization terminated successfully.\n",
      "         Current function value: 0.000139\n",
      "         Iterations: 45\n",
      "         Function evaluations: 91\n"
     ]
    },
    {
     "data": {
      "text/plain": [
       " final_simplex: (array([[ 2.9999999 , -2.49999979],\n",
       "       [ 2.9999996 , -2.50000014],\n",
       "       [ 3.00000077, -2.49999986]]), array([0.00013904, 0.00014849, 0.0002241 ]))\n",
       "           fun: 0.000139043530501759\n",
       "       message: 'Optimization terminated successfully.'\n",
       "          nfev: 91\n",
       "           nit: 45\n",
       "        status: 0\n",
       "       success: True\n",
       "             x: array([ 2.9999999 , -2.49999979])"
      ]
     },
     "execution_count": 56,
     "metadata": {},
     "output_type": "execute_result"
    }
   ],
   "source": [
    "res = minimize(error, [3,-3], method='nelder-mead', options={'xtol': 1e-6, 'disp': True})\n",
    "res"
   ]
  },
  {
   "cell_type": "code",
   "execution_count": 74,
   "metadata": {},
   "outputs": [
    {
     "name": "stdout",
     "output_type": "stream",
     "text": [
      "Оптимальные параметры: \n",
      "a = 3.00, \n",
      "b = -2.50\n"
     ]
    }
   ],
   "source": [
    "print('Оптимальные параметры: \\na = {a:.2f}, \\nb = {b:.2f}'.format(a=res.x[0],b=res.x[1]))\n"
   ]
  },
  {
   "cell_type": "code",
   "execution_count": null,
   "metadata": {},
   "outputs": [],
   "source": []
  },
  {
   "cell_type": "code",
   "execution_count": null,
   "metadata": {},
   "outputs": [],
   "source": []
  },
  {
   "cell_type": "markdown",
   "metadata": {},
   "source": [
    "### Задание 4"
   ]
  },
  {
   "cell_type": "markdown",
   "metadata": {},
   "source": [
    "Создайте собственную дискретную случайную величину с 20 значениями. Сгенерируйте 1000 выборок размера 50. Посчитайте среднее для каждой выборки. Постройте гистограмму распределения средних."
   ]
  },
  {
   "cell_type": "code",
   "execution_count": 31,
   "metadata": {},
   "outputs": [
    {
     "data": {
      "text/plain": [
       "array([0.01849475, 0.23873952, 0.13301867, 0.91713251, 0.09263084,\n",
       "       0.29580179, 0.24515546, 0.49192875, 0.01920705, 0.42045602,\n",
       "       0.34289278, 0.7251109 , 0.73648182, 0.59831548, 0.98004491,\n",
       "       0.79743505, 0.01003003, 0.82700939, 0.82635816, 0.51243965])"
      ]
     },
     "execution_count": 31,
     "metadata": {},
     "output_type": "execute_result"
    }
   ],
   "source": [
    "var = np.random.random(20)\n",
    "var"
   ]
  },
  {
   "cell_type": "code",
   "execution_count": 35,
   "metadata": {},
   "outputs": [],
   "source": [
    "n = 50\n",
    "sample = 1000\n",
    "\n",
    "mean_array = np.array([])\n",
    "\n",
    "for i in range(sample):\n",
    "    sample_iter = np.random.choice(var, n)\n",
    "    mean_array = np.append(mean_array, sample_iter.mean())"
   ]
  },
  {
   "cell_type": "code",
   "execution_count": 36,
   "metadata": {},
   "outputs": [
    {
     "data": {
      "text/plain": [
       "Text(0.5, 0, '$x$')"
      ]
     },
     "execution_count": 36,
     "metadata": {},
     "output_type": "execute_result"
    },
    {
     "data": {
      "image/png": "[encoded data removed]",
      "text/plain": [
       "<Figure size 432x288 with 1 Axes>"
      ]
     },
     "metadata": {
      "needs_background": "light"
     },
     "output_type": "display_data"
    }
   ],
   "source": [
    "label_1 = 'sample of ' + str(n) + ' histogram'\n",
    "plt.hist(mean_array, density=True, label=label_1)\n",
    "\n",
    "plt.legend()\n",
    "plt.ylabel('samples means')\n",
    "plt.xlabel('$x$')"
   ]
  },
  {
   "cell_type": "markdown",
   "metadata": {},
   "source": [
    "### Задание 5"
   ]
  },
  {
   "cell_type": "markdown",
   "metadata": {},
   "source": [
    "Найдите собственные значения и собственные вектора матрицы (на python и на бумаге)\n",
    "\n",
    "[[1, 4],\n",
    "\n",
    " [1, 1]]"
   ]
  },
  {
   "cell_type": "code",
   "execution_count": 37,
   "metadata": {},
   "outputs": [],
   "source": [
    "# python\n",
    "\n",
    "array = np.array([[1, 4],\n",
    "                  [1, 1]])"
   ]
  },
  {
   "cell_type": "code",
   "execution_count": 43,
   "metadata": {},
   "outputs": [
    {
     "name": "stdout",
     "output_type": "stream",
     "text": [
      "Собственные значения: \n",
      " [ 3. -1.] \n",
      " Собственные вектора соответственно: \n",
      " [[ 0.89442719 -0.89442719]\n",
      " [ 0.4472136   0.4472136 ]]\n"
     ]
    }
   ],
   "source": [
    "j, m = np.linalg.eig(array)\n",
    "print('Собственные значения: \\n',j, '\\n', 'Собственные вектора соответственно: \\n',m)"
   ]
  },
  {
   "cell_type": "markdown",
   "metadata": {},
   "source": [
    "Матрица\n",
    "\\begin{pmatrix}\n",
    "(1-x)&   4\\\\\n",
    "1 & (1-x)\n",
    "\\end{pmatrix}\n",
    " \n",
    "$(1-x)*(1-x)-4*1=0$\n",
    "\n",
    "$X^2-2*x-3=0$\n",
    "\n",
    "По Виета: \n",
    "\n",
    "$x_1 = 3$\n",
    "\n",
    "$x_2 = -1$\n",
    "\n",
    "-----\n",
    "При $x_1 = 3$\n",
    "\n",
    "$-2x+4y = 0$\n",
    "\n",
    "$x -2y = 0$\n",
    "\n",
    "--> x=2y\n",
    "вектор [2:1]\n",
    "\n",
    "----\n",
    "При $x_2 = -1$\n",
    "\n",
    "$2x+4y = 0$\n",
    "\n",
    "$x +2y = 0$\n",
    "\n",
    "--> x=-2y\n",
    "вектор [-2:1]\n",
    "\n"
   ]
  },
  {
   "cell_type": "code",
   "execution_count": null,
   "metadata": {},
   "outputs": [],
   "source": []
  }
 ],
 "metadata": {
  "kernelspec": {
   "display_name": "Python 3",
   "language": "python",
   "name": "python3"
  },
  "language_info": {
   "codemirror_mode": {
    "name": "ipython",
    "version": 3
   },
   "file_extension": ".py",
   "mimetype": "text/x-python",
   "name": "python",
   "nbconvert_exporter": "python",
   "pygments_lexer": "ipython3",
   "version": "3.7.7"
  }
 },
 "nbformat": 4,
 "nbformat_minor": 2
}
